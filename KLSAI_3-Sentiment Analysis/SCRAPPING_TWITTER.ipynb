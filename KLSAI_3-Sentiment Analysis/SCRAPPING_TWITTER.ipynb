{
 "cells": [
  {
   "cell_type": "markdown",
   "metadata": {
    "colab_type": "text",
    "id": "E7D0kXb3EqbP"
   },
   "source": [
    "# KUALA LUMPUR SCHOOL OF ARTIFICIAL INTELLIGENCE, FEBRUARY 2019\n",
    "## SENTIMENT ANALYSIS BY PURNIMA WIJENDRA\n",
    "​\n",
    "###Sentiment Analysis & Visualisation\n",
    "KUALA LUMPUR SCHOOL OF ARTIFICIAL INTELLIGENCE, FEBRUARY 2019\n",
    "SENTIMENT ANALYSIS BY PURNIMA WIJENDRA\n",
    "Sentiment Analysis & Visualisation\n",
    "\n",
    "\n",
    "Take note: \n",
    "Please setup an app with Twitter link:  https://developer.twitter.com/content/developer-twitter/en.html.\n",
    "\n",
    "\n",
    "As explained in how to obtain access codes with Twitter, please replace Key & Tokens given by the app.\n",
    "\n",
    "Library used for this is method is Tweepy, for more information:  http://www.tweepy.org/"
   ]
  },
  {
   "cell_type": "code",
   "execution_count": 1,
   "metadata": {
    "colab": {
     "base_uri": "https://localhost:8080/",
     "height": 238
    },
    "colab_type": "code",
    "id": "ChaMbJEGIrF1",
    "outputId": "55ff8a80-8765-4adc-a2aa-0fb624a1552a"
   },
   "outputs": [],
   "source": [
    "# !pip install tweepy\n"
   ]
  },
  {
   "cell_type": "code",
   "execution_count": null,
   "metadata": {
    "colab": {},
    "colab_type": "code",
    "id": "YPPj5ErhIrF6"
   },
   "outputs": [],
   "source": [
    "#libraries\n",
    "import tweepy\n",
    "from tweepy import OAuthHandler\n",
    "import csv\n",
    "import pandas as pd\n",
    "\n",
    "#twitter keys \n",
    "consumer_key = ''\n",
    "consumer_secret = ''\n",
    "access_token = ''\n",
    "access_token_secret = ''\n",
    "\n",
    "auth = tweepy.OAuthHandler(consumer_key, consumer_secret)\n",
    "auth.set_access_token(access_token, access_token_secret)\n",
    "api = tweepy.API(auth,wait_on_rate_limit=True)\n",
    "\n",
    "public_tweets = api.search('fried chicken')"
   ]
  },
  {
   "cell_type": "code",
   "execution_count": null,
   "metadata": {
    "colab": {},
    "colab_type": "code",
    "id": "TZoHJfiJIrF_"
   },
   "outputs": [],
   "source": [
    "csvFile = open('friedchick.csv', 'a')\n",
    "\n",
    "csvWriter = csv.writer(csvFile)\n",
    "for tweet in tweepy.Cursor(api.search,q=(\"sushi\"),count=100,\n",
    "                           lang=\"en\",\n",
    "                           since=\"\").items():\n",
    "        csvWriter.writerow([tweet.created_at, tweet.text.encode('utf-8')])\n",
    "        print (tweet.created_at, tweet.text)\n",
    "csvFile.close()"
   ]
  },
  {
   "cell_type": "code",
   "execution_count": null,
   "metadata": {
    "colab": {},
    "colab_type": "code",
    "id": "2p5AIlkUIrGC"
   },
   "outputs": [],
   "source": [
    "import pandas as pd\n",
    "data = pd.read_csv('friedchick.csv')"
   ]
  },
  {
   "cell_type": "code",
   "execution_count": null,
   "metadata": {
    "colab": {},
    "colab_type": "code",
    "id": "07KSUzoVKNY1"
   },
   "outputs": [],
   "source": [
    "data.head()"
   ]
  },
  {
   "cell_type": "code",
   "execution_count": null,
   "metadata": {
    "colab": {},
    "colab_type": "code",
    "id": "C8989UxAKts-"
   },
   "outputs": [],
   "source": [
    "data.to_csv('friedchick.csv')"
   ]
  },
  {
   "cell_type": "markdown",
   "metadata": {
    "colab_type": "text",
    "id": "bLa3b_RjmLkv"
   },
   "source": []
  }
 ],
 "metadata": {
  "accelerator": "GPU",
  "colab": {
   "collapsed_sections": [],
   "name": "SCRAPPING TWITTER.ipynb",
   "provenance": [],
   "version": "0.3.2"
  },
  "kernelspec": {
   "display_name": "Python 3",
   "language": "python",
   "name": "python3"
  },
  "language_info": {
   "codemirror_mode": {
    "name": "ipython",
    "version": 3
   },
   "file_extension": ".py",
   "mimetype": "text/x-python",
   "name": "python",
   "nbconvert_exporter": "python",
   "pygments_lexer": "ipython3",
   "version": "3.7.1"
  }
 },
 "nbformat": 4,
 "nbformat_minor": 2
}
