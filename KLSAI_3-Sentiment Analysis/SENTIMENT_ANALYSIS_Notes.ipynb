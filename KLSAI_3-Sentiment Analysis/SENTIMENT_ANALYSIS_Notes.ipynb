{
 "cells": [
  {
   "cell_type": "markdown",
   "metadata": {
    "colab_type": "text",
    "id": "pEygTJdrDW1V"
   },
   "source": [
    "\n",
    "#KUALA LUMPUR SCHOOL OF ARTIFICIAL INTELLIGENCE, FEBRUARY 2019\n",
    "##SENTIMENT ANALYSIS BY PURNIMA WIJENDRA\n",
    "###NOTES"
   ]
  },
  {
   "cell_type": "markdown",
   "metadata": {
    "colab_type": "text",
    "id": "4_-J2xr2D8NI"
   },
   "source": [
    "Sentiment Analysis\n",
    "- Introduction \n",
    "- Scraping Social Media - Twitter\n",
    "- Cleaning data\n",
    "- Applying Sentiment Polarity\n",
    "- Visualisation \n",
    "- Word Cloud"
   ]
  },
  {
   "cell_type": "markdown",
   "metadata": {
    "colab_type": "text",
    "id": "7Yi00N9VEO7i"
   },
   "source": [
    "**Introduction**\n",
    "\n",
    "Scraping from Twitter\n",
    "Requires Tokens & Access Keys\n",
    "Library used : Tweepy\n",
    "An easy-to-use Python library for accessing the Twitter API.\n",
    "\n",
    "**Text Analytics **\n",
    "\n",
    "TextBlob is a Python (2 and 3) library for processing textual data. It provides a consistent API for diving into common natural language processing (NLP) tasks such as part-of-speech tagging, noun phrase extraction, sentiment analysis, and more.\n",
    "\n",
    "**Polarity **\n",
    "\n",
    "Sentiment analysis refers to identifying sentiment orientation (positive, neutral, and negative) in written or spoken language. Other types of sentiment analysis include fine-grained sentiment analysis which provides more precision in the level of polarity (e.g. very positive, positive, neutral, negative, and very negative) and emotion analysis which aims to identify emotions in expressions (e.g. happiness, sadness, frustration, surprise, etc\n",
    "\n",
    "**Subjectivity**\n",
    "\n",
    "Subjectivity is when text is an explanatory article which must be analysed in context\n",
    "\n",
    "**Use cases**  ??\n"
   ]
  },
  {
   "cell_type": "markdown",
   "metadata": {
    "colab_type": "text",
    "id": "7jIN7ZLGFUB0"
   },
   "source": [
    "To install Tweepy & TextBlob: "
   ]
  },
  {
   "cell_type": "code",
   "execution_count": null,
   "metadata": {
    "colab": {},
    "colab_type": "code",
    "id": "glYVcMMSFSnm"
   },
   "outputs": [],
   "source": [
    "# !pip install Tweepy"
   ]
  },
  {
   "cell_type": "code",
   "execution_count": null,
   "metadata": {
    "colab": {
     "base_uri": "https://localhost:8080/",
     "height": 70
    },
    "colab_type": "code",
    "id": "166J-phSFbi6",
    "outputId": "072e3cd3-06ff-4798-aff6-3146182e687a"
   },
   "outputs": [
    {
     "name": "stdout",
     "output_type": "stream",
     "text": [
      "Requirement already satisfied: TextBlob in /usr/local/lib/python3.6/dist-packages (0.15.2)\n",
      "Requirement already satisfied: nltk>=3.1 in /usr/local/lib/python3.6/dist-packages (from TextBlob) (3.2.5)\n",
      "Requirement already satisfied: six in /usr/local/lib/python3.6/dist-packages (from nltk>=3.1->TextBlob) (1.11.0)\n"
     ]
    }
   ],
   "source": [
    "# !pip install TextBlob"
   ]
  },
  {
   "cell_type": "code",
   "execution_count": null,
   "metadata": {
    "colab": {
     "base_uri": "https://localhost:8080/",
     "height": 34
    },
    "colab_type": "code",
    "id": "qIDbP1IHEI6v",
    "outputId": "b341fdae-769f-4fe6-d455-14395e4f51f0"
   },
   "outputs": [
    {
     "data": {
      "text/plain": [
       "Sentiment(polarity=-0.3076923076923077, subjectivity=0.5769230769230769)"
      ]
     },
     "execution_count": 3,
     "metadata": {
      "tags": []
     },
     "output_type": "execute_result"
    }
   ],
   "source": [
    "from textblob import TextBlob\n",
    "\n",
    "TextBlob(\"not a very great calculation\").sentiment\n"
   ]
  },
  {
   "cell_type": "code",
   "execution_count": null,
   "metadata": {
    "colab": {
     "base_uri": "https://localhost:8080/",
     "height": 34
    },
    "colab_type": "code",
    "id": "fsoywCBUG9Jy",
    "outputId": "1aa99c59-8d5d-4eb1-e6a7-4912e7ac0492"
   },
   "outputs": [
    {
     "data": {
      "text/plain": [
       "Sentiment(polarity=0.0, subjectivity=0.0)"
      ]
     },
     "execution_count": 7,
     "metadata": {
      "tags": []
     },
     "output_type": "execute_result"
    }
   ],
   "source": [
    "TextBlob(\"I like sushi\").sentiment"
   ]
  },
  {
   "cell_type": "code",
   "execution_count": null,
   "metadata": {
    "colab": {},
    "colab_type": "code",
    "id": "WcGcgWjmDKGn"
   },
   "outputs": [],
   "source": []
  }
 ],
 "metadata": {
  "colab": {
   "name": "SENTIMENT ANALYSIS - Notes.ipynb",
   "provenance": [],
   "version": "0.3.2"
  },
  "kernelspec": {
   "display_name": "Python 3",
   "language": "python",
   "name": "python3"
  },
  "language_info": {
   "codemirror_mode": {
    "name": "ipython",
    "version": 3
   },
   "file_extension": ".py",
   "mimetype": "text/x-python",
   "name": "python",
   "nbconvert_exporter": "python",
   "pygments_lexer": "ipython3",
   "version": "3.7.1"
  }
 },
 "nbformat": 4,
 "nbformat_minor": 2
}
