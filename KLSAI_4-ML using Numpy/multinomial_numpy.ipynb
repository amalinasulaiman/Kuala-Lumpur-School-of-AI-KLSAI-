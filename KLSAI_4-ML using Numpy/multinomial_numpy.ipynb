{
  "nbformat": 4,
  "nbformat_minor": 0,
  "metadata": {
    "colab": {
      "name": "multinomial numpy.ipynb",
      "version": "0.3.2",
      "provenance": [],
      "collapsed_sections": []
    },
    "kernelspec": {
      "name": "python3",
      "display_name": "Python 3"
    }
  },
  "cells": [
    {
      "cell_type": "code",
      "metadata": {
        "id": "yK3PGeDsG8Yv",
        "colab_type": "code",
        "colab": {}
      },
      "source": [
        "import numpy as np\n"
      ],
      "execution_count": 0,
      "outputs": []
    },
    {
      "cell_type": "code",
      "metadata": {
        "id": "U0gJyCFTHyoC",
        "colab_type": "code",
        "outputId": "7563cf3e-ceeb-4109-f3f2-074d4ef54e47",
        "colab": {
          "base_uri": "https://localhost:8080/",
          "height": 578
        }
      },
      "source": [
        "!wget https://huseinhouse.com/dataset/text/kerajaan\n",
        "!wget https://huseinhouse.com/dataset/text/pembangkang\n",
        "!wget https://huseinhouse.com/dataset/text/apple"
      ],
      "execution_count": 0,
      "outputs": [
        {
          "output_type": "stream",
          "text": [
            "--2019-06-29 02:45:35--  https://huseinhouse.com/dataset/text/kerajaan\n",
            "Resolving huseinhouse.com (huseinhouse.com)... 42.191.206.100\n",
            "Connecting to huseinhouse.com (huseinhouse.com)|42.191.206.100|:443... connected.\n",
            "HTTP request sent, awaiting response... 200 OK\n",
            "Length: 623601 (609K) [application/octet-stream]\n",
            "Saving to: ‘kerajaan’\n",
            "\n",
            "kerajaan            100%[===================>] 608.99K   521KB/s    in 1.2s    \n",
            "\n",
            "2019-06-29 02:45:42 (521 KB/s) - ‘kerajaan’ saved [623601/623601]\n",
            "\n",
            "--2019-06-29 02:45:44--  https://huseinhouse.com/dataset/text/pembangkang\n",
            "Resolving huseinhouse.com (huseinhouse.com)... 42.191.206.100\n",
            "Connecting to huseinhouse.com (huseinhouse.com)|42.191.206.100|:443... connected.\n",
            "HTTP request sent, awaiting response... 200 OK\n",
            "Length: 594342 (580K) [application/octet-stream]\n",
            "Saving to: ‘pembangkang’\n",
            "\n",
            "pembangkang         100%[===================>] 580.41K   515KB/s    in 1.1s    \n",
            "\n",
            "2019-06-29 02:45:49 (515 KB/s) - ‘pembangkang’ saved [594342/594342]\n",
            "\n",
            "--2019-06-29 02:45:50--  https://huseinhouse.com/dataset/text/apple\n",
            "Resolving huseinhouse.com (huseinhouse.com)... 42.191.206.100\n",
            "Connecting to huseinhouse.com (huseinhouse.com)|42.191.206.100|:443... connected.\n",
            "HTTP request sent, awaiting response... 200 OK\n",
            "Length: 157038 (153K) [application/octet-stream]\n",
            "Saving to: ‘apple’\n",
            "\n",
            "apple               100%[===================>] 153.36K   279KB/s    in 0.5s    \n",
            "\n",
            "2019-06-29 02:45:52 (279 KB/s) - ‘apple’ saved [157038/157038]\n",
            "\n"
          ],
          "name": "stdout"
        }
      ]
    },
    {
      "cell_type": "code",
      "metadata": {
        "id": "EffkpNJSHywO",
        "colab_type": "code",
        "outputId": "9b386d92-c86d-4e5e-b31a-5a6c2a28a75a",
        "colab": {
          "base_uri": "https://localhost:8080/",
          "height": 34
        }
      },
      "source": [
        "with open('apple') as fopen:\n",
        "  apple = fopen.readlines()\n",
        "len(apple)"
      ],
      "execution_count": 0,
      "outputs": [
        {
          "output_type": "execute_result",
          "data": {
            "text/plain": [
              "2296"
            ]
          },
          "metadata": {
            "tags": []
          },
          "execution_count": 2
        }
      ]
    },
    {
      "cell_type": "code",
      "metadata": {
        "id": "jnZu-JmWHyy3",
        "colab_type": "code",
        "outputId": "f18b47c1-8a22-4ec5-d65b-3fc12188f4a3",
        "colab": {
          "base_uri": "https://localhost:8080/",
          "height": 34
        }
      },
      "source": [
        "with open('kerajaan') as fopen:\n",
        "  kerajaan = fopen.readlines()\n",
        "len(kerajaan)"
      ],
      "execution_count": 0,
      "outputs": [
        {
          "output_type": "execute_result",
          "data": {
            "text/plain": [
              "6957"
            ]
          },
          "metadata": {
            "tags": []
          },
          "execution_count": 3
        }
      ]
    },
    {
      "cell_type": "code",
      "metadata": {
        "id": "4nn4mfU7Hy1M",
        "colab_type": "code",
        "outputId": "5697a08b-bae7-4682-f81d-49488b180c78",
        "colab": {
          "base_uri": "https://localhost:8080/",
          "height": 34
        }
      },
      "source": [
        "with open('pembangkang') as fopen:\n",
        "  pembangkang = fopen.readlines()\n",
        "len(pembangkang)"
      ],
      "execution_count": 0,
      "outputs": [
        {
          "output_type": "execute_result",
          "data": {
            "text/plain": [
              "7636"
            ]
          },
          "metadata": {
            "tags": []
          },
          "execution_count": 6
        }
      ]
    },
    {
      "cell_type": "code",
      "metadata": {
        "id": "vMJhfQU8Hy3y",
        "colab_type": "code",
        "colab": {}
      },
      "source": [
        "import random\n",
        "k = 500\n",
        "apple_sample = random.sample(apple, k)\n",
        "pembangkang_sample = random.sample(pembangkang, k)\n",
        "kerajaan_sample = random.sample(kerajaan, k)"
      ],
      "execution_count": 0,
      "outputs": []
    },
    {
      "cell_type": "markdown",
      "metadata": {
        "id": "TCOYoQ-SL_v8",
        "colab_type": "text"
      },
      "source": [
        "apple as class 0, \n",
        "pembangkang class 1,\n",
        "kerajaan class 2"
      ]
    },
    {
      "cell_type": "code",
      "metadata": {
        "id": "uWJr9Y8WHy58",
        "colab_type": "code",
        "outputId": "24f003c5-0128-4821-c8b8-205dbe2d4a33",
        "colab": {
          "base_uri": "https://localhost:8080/",
          "height": 34
        }
      },
      "source": [
        "Y = [0]*k + [1]*k + [2]*k\n",
        "len(Y)\n",
        "#to generate label"
      ],
      "execution_count": 0,
      "outputs": [
        {
          "output_type": "execute_result",
          "data": {
            "text/plain": [
              "1500"
            ]
          },
          "metadata": {
            "tags": []
          },
          "execution_count": 39
        }
      ]
    },
    {
      "cell_type": "code",
      "metadata": {
        "id": "2zN-Tpw9Hy8k",
        "colab_type": "code",
        "outputId": "42c8cdcb-0ff1-4798-c19c-763dcdbb487f",
        "colab": {
          "base_uri": "https://localhost:8080/",
          "height": 34
        }
      },
      "source": [
        "X = apple_sample + pembangkang_sample + kerajaan_sample\n",
        "len(X) == len(Y)"
      ],
      "execution_count": 0,
      "outputs": [
        {
          "output_type": "execute_result",
          "data": {
            "text/plain": [
              "True"
            ]
          },
          "metadata": {
            "tags": []
          },
          "execution_count": 40
        }
      ]
    },
    {
      "cell_type": "markdown",
      "metadata": {
        "id": "yG5mkxuPMivS",
        "colab_type": "text"
      },
      "source": [
        "###Basic Text Cleaning"
      ]
    },
    {
      "cell_type": "code",
      "metadata": {
        "id": "QhvwnuycLkeM",
        "colab_type": "code",
        "colab": {}
      },
      "source": [
        "for i in range(len(X)):\n",
        "  X[i] = X[i].lower()"
      ],
      "execution_count": 0,
      "outputs": []
    },
    {
      "cell_type": "markdown",
      "metadata": {
        "id": "vlxV5AybM82H",
        "colab_type": "text"
      },
      "source": [
        "### Bag of Words"
      ]
    },
    {
      "cell_type": "code",
      "metadata": {
        "id": "9vEc1U4IM7ik",
        "colab_type": "code",
        "outputId": "83a868a5-fd21-40d9-bafa-5a771fba0fe3",
        "colab": {
          "base_uri": "https://localhost:8080/",
          "height": 34
        }
      },
      "source": [
        " unique_words = list(set(' '.join(X).split()))\n",
        " len(unique_words) #to make bag of words, so we change from set to list"
      ],
      "execution_count": 0,
      "outputs": [
        {
          "output_type": "execute_result",
          "data": {
            "text/plain": [
              "7384"
            ]
          },
          "metadata": {
            "tags": []
          },
          "execution_count": 42
        }
      ]
    },
    {
      "cell_type": "code",
      "metadata": {
        "id": "9bV9ixjDNzt4",
        "colab_type": "code",
        "outputId": "3c30f78d-085e-4a2c-eaef-0ebb6154ba0b",
        "colab": {
          "base_uri": "https://localhost:8080/",
          "height": 34
        }
      },
      "source": [
        "bow = np.zeros((len(X), len(unique_words)))\n",
        "bow.shape\n",
        "\n",
        "#1500 sentences times 7348 unique words"
      ],
      "execution_count": 0,
      "outputs": [
        {
          "output_type": "execute_result",
          "data": {
            "text/plain": [
              "(1500, 7384)"
            ]
          },
          "metadata": {
            "tags": []
          },
          "execution_count": 43
        }
      ]
    },
    {
      "cell_type": "code",
      "metadata": {
        "id": "WxidPuHMNLIL",
        "colab_type": "code",
        "outputId": "f7b6d57c-0541-4288-ef39-b59a3f15e0e1",
        "colab": {
          "base_uri": "https://localhost:8080/",
          "height": 34
        }
      },
      "source": [
        "set(' '.join(['makan apa tu']).split())"
      ],
      "execution_count": 0,
      "outputs": [
        {
          "output_type": "execute_result",
          "data": {
            "text/plain": [
              "{'apa', 'makan', 'tu'}"
            ]
          },
          "metadata": {
            "tags": []
          },
          "execution_count": 44
        }
      ]
    },
    {
      "cell_type": "code",
      "metadata": {
        "id": "Mb8bKjp8NsJy",
        "colab_type": "code",
        "colab": {}
      },
      "source": [
        "# to add no. of frequency of the word, if it shows up 3 times, add 1 for three times\n",
        "for no, word in enumerate(X):\n",
        "  for w in word.split():\n",
        "    bow[no, unique_words.index(w)] +=1\n",
        "  "
      ],
      "execution_count": 0,
      "outputs": []
    },
    {
      "cell_type": "code",
      "metadata": {
        "id": "d0G99E0cRDeF",
        "colab_type": "code",
        "colab": {}
      },
      "source": [
        "unique_words[:100] #if we have 1 word, it represents 1 dimension, if we have 1500 unqie words, we have 1500 dimensions"
      ],
      "execution_count": 0,
      "outputs": []
    },
    {
      "cell_type": "code",
      "metadata": {
        "id": "vt5ciGAMRGhH",
        "colab_type": "code",
        "outputId": "a313baa4-265b-4a19-ab1f-5f98ca192f5c",
        "colab": {
          "base_uri": "https://localhost:8080/",
          "height": 34
        }
      },
      "source": [
        "example_x = ['saya suka makan ayam ayam', 'suka tidur', 'suka menganjing']\n",
        "example_unique = list(set(' '.join(example_x).split()))\n",
        "example_unique"
      ],
      "execution_count": 0,
      "outputs": [
        {
          "output_type": "execute_result",
          "data": {
            "text/plain": [
              "['tidur', 'saya', 'ayam', 'menganjing', 'makan', 'suka']"
            ]
          },
          "metadata": {
            "tags": []
          },
          "execution_count": 49
        }
      ]
    },
    {
      "cell_type": "code",
      "metadata": {
        "id": "NNW1ckAYSmOf",
        "colab_type": "code",
        "outputId": "b6150ddf-818c-4f52-9544-592d89e4a7fb",
        "colab": {
          "base_uri": "https://localhost:8080/",
          "height": 68
        }
      },
      "source": [
        "example_bow = np.zeros((len(example_x), len(example_unique)))\n",
        "example_bow"
      ],
      "execution_count": 0,
      "outputs": [
        {
          "output_type": "execute_result",
          "data": {
            "text/plain": [
              "array([[0., 0., 0., 0., 0., 0.],\n",
              "       [0., 0., 0., 0., 0., 0.],\n",
              "       [0., 0., 0., 0., 0., 0.]])"
            ]
          },
          "metadata": {
            "tags": []
          },
          "execution_count": 51
        }
      ]
    },
    {
      "cell_type": "code",
      "metadata": {
        "id": "c7IlmMh5SmRI",
        "colab_type": "code",
        "outputId": "e21adc3f-851b-4091-ea68-a6304ca03a50",
        "colab": {
          "base_uri": "https://localhost:8080/",
          "height": 68
        }
      },
      "source": [
        "for no, x in enumerate(example_x):\n",
        "  for w in x.split():\n",
        "    example_bow[no, example_unique.index(w)] += 1\n",
        "    \n",
        "example_bow"
      ],
      "execution_count": 0,
      "outputs": [
        {
          "output_type": "execute_result",
          "data": {
            "text/plain": [
              "array([[0., 1., 2., 0., 1., 1.],\n",
              "       [1., 0., 0., 0., 0., 1.],\n",
              "       [0., 0., 0., 1., 0., 1.]])"
            ]
          },
          "metadata": {
            "tags": []
          },
          "execution_count": 52
        }
      ]
    },
    {
      "cell_type": "code",
      "metadata": {
        "id": "2lflU-22SmTZ",
        "colab_type": "code",
        "outputId": "4f06e258-4762-466a-e6ac-cd4e947bbd55",
        "colab": {
          "base_uri": "https://localhost:8080/",
          "height": 34
        }
      },
      "source": [
        "df = np.zeros((len(example_unique)))\n",
        "df"
      ],
      "execution_count": 0,
      "outputs": [
        {
          "output_type": "execute_result",
          "data": {
            "text/plain": [
              "array([0., 0., 0., 0., 0., 0.])"
            ]
          },
          "metadata": {
            "tags": []
          },
          "execution_count": 53
        }
      ]
    },
    {
      "cell_type": "code",
      "metadata": {
        "id": "qUapbpWMR0f6",
        "colab_type": "code",
        "outputId": "b322d247-1554-49b6-8eca-1c0fa8f6a814",
        "colab": {
          "base_uri": "https://localhost:8080/",
          "height": 34
        }
      },
      "source": [
        "#df document frequency, no of document contains saya\n",
        "\n",
        "for no, w in enumerate(example_unique):\n",
        "  for string in example_x:\n",
        "    if w in string:\n",
        "      df[no] += 1\n",
        "      \n",
        "df"
      ],
      "execution_count": 0,
      "outputs": [
        {
          "output_type": "execute_result",
          "data": {
            "text/plain": [
              "array([1., 1., 1., 1., 1., 3.])"
            ]
          },
          "metadata": {
            "tags": []
          },
          "execution_count": 54
        }
      ]
    },
    {
      "cell_type": "code",
      "metadata": {
        "id": "VQpnKpakTqwl",
        "colab_type": "code",
        "colab": {}
      },
      "source": [
        "df = len(example_x) / df # N / df"
      ],
      "execution_count": 0,
      "outputs": []
    },
    {
      "cell_type": "code",
      "metadata": {
        "id": "STKps8xsUQ_6",
        "colab_type": "code",
        "outputId": "5e9cca81-3d21-4cc9-82c8-412805ecf6dd",
        "colab": {
          "base_uri": "https://localhost:8080/",
          "height": 51
        }
      },
      "source": [
        "log_df = np.log(df)\n",
        "log_df\n"
      ],
      "execution_count": 0,
      "outputs": [
        {
          "output_type": "execute_result",
          "data": {
            "text/plain": [
              "array([1.09861229, 1.09861229, 1.09861229, 1.09861229, 1.09861229,\n",
              "       0.        ])"
            ]
          },
          "metadata": {
            "tags": []
          },
          "execution_count": 56
        }
      ]
    },
    {
      "cell_type": "code",
      "metadata": {
        "id": "hYbYDuKmUSoW",
        "colab_type": "code",
        "outputId": "37d0d620-11c9-4087-ce3c-532a0d34d667",
        "colab": {
          "base_uri": "https://localhost:8080/",
          "height": 119
        }
      },
      "source": [
        "example_tfidf = example_bow * log_df\n",
        "example_tfidf"
      ],
      "execution_count": 0,
      "outputs": [
        {
          "output_type": "execute_result",
          "data": {
            "text/plain": [
              "array([[0.        , 1.09861229, 2.19722458, 0.        , 1.09861229,\n",
              "        0.        ],\n",
              "       [1.09861229, 0.        , 0.        , 0.        , 0.        ,\n",
              "        0.        ],\n",
              "       [0.        , 0.        , 0.        , 1.09861229, 0.        ,\n",
              "        0.        ]])"
            ]
          },
          "metadata": {
            "tags": []
          },
          "execution_count": 57
        }
      ]
    },
    {
      "cell_type": "markdown",
      "metadata": {
        "id": "Ox-r52zwVEDM",
        "colab_type": "text"
      },
      "source": [
        "### Calculate Likelihood"
      ]
    },
    {
      "cell_type": "markdown",
      "metadata": {
        "id": "kGKdBgHnVbSx",
        "colab_type": "text"
      },
      "source": [
        "likelihood depends on conditions = possibility (based on the event of A happened)\n",
        "frequenties divided by sum = probability"
      ]
    },
    {
      "cell_type": "code",
      "metadata": {
        "id": "uKZt4Sm1VjgB",
        "colab_type": "code",
        "outputId": "10b8157f-64f9-4b9a-efde-fbadae3edc28",
        "colab": {
          "base_uri": "https://localhost:8080/",
          "height": 51
        }
      },
      "source": [
        "classes, counts = np.unique(Y, return_counts = True)\n",
        "print(classes)\n",
        "print(counts)"
      ],
      "execution_count": 0,
      "outputs": [
        {
          "output_type": "stream",
          "text": [
            "[0 1 2]\n",
            "[500 500 500]\n"
          ],
          "name": "stdout"
        }
      ]
    },
    {
      "cell_type": "code",
      "metadata": {
        "id": "9WsKHWm4V6sT",
        "colab_type": "code",
        "outputId": "66160bc6-5349-4015-d1cf-587ab8a2a5e3",
        "colab": {
          "base_uri": "https://localhost:8080/",
          "height": 34
        }
      },
      "source": [
        "prob_class = {}\n",
        "\n",
        "for i in range (len(classes)):\n",
        "  prob_class[classes[i]] = counts[i]/ len(Y)\n",
        "  \n",
        "prob_class"
      ],
      "execution_count": 0,
      "outputs": [
        {
          "output_type": "execute_result",
          "data": {
            "text/plain": [
              "{0: 0.3333333333333333, 1: 0.3333333333333333, 2: 0.3333333333333333}"
            ]
          },
          "metadata": {
            "tags": []
          },
          "execution_count": 61
        }
      ]
    },
    {
      "cell_type": "code",
      "metadata": {
        "id": "3X_nA-WtWNAb",
        "colab_type": "code",
        "colab": {}
      },
      "source": [
        "np_X = np.array(bow)\n",
        "np_Y = np.array(Y)"
      ],
      "execution_count": 0,
      "outputs": []
    },
    {
      "cell_type": "code",
      "metadata": {
        "id": "4rUOm8I-WoL6",
        "colab_type": "code",
        "outputId": "df501c85-dde1-428a-9fd4-7b9722e6ccec",
        "colab": {
          "base_uri": "https://localhost:8080/",
          "height": 34
        }
      },
      "source": [
        "sum_class = {}\n",
        "for c in classes:\n",
        "  sum_class[c] = np_X[np_Y == c].sum()\n",
        "sum_class\n",
        "  \n",
        "  #find the bag of words for class 0, class 1, class 2\n",
        "  #sum of c0 and c1 and c2"
      ],
      "execution_count": 0,
      "outputs": [
        {
          "output_type": "execute_result",
          "data": {
            "text/plain": [
              "{0: 6157.0, 1: 6094.0, 2: 6624.0}"
            ]
          },
          "metadata": {
            "tags": []
          },
          "execution_count": 81
        }
      ]
    },
    {
      "cell_type": "code",
      "metadata": {
        "id": "8bxnFm1lWtAH",
        "colab_type": "code",
        "outputId": "af30a896-e37e-48ea-e384-ca99378ffef3",
        "colab": {
          "base_uri": "https://localhost:8080/",
          "height": 34
        }
      },
      "source": [
        "#calculate likelihood\n",
        "likelihood = np.zeros((len(classes), bow.shape[1]))\n",
        "likelihood.shape\n",
        "#row is size of class\n",
        "#column is size of vocab"
      ],
      "execution_count": 0,
      "outputs": [
        {
          "output_type": "execute_result",
          "data": {
            "text/plain": [
              "(3, 7384)"
            ]
          },
          "metadata": {
            "tags": []
          },
          "execution_count": 82
        }
      ]
    },
    {
      "cell_type": "code",
      "metadata": {
        "id": "P7X_ttNrYZ3x",
        "colab_type": "code",
        "colab": {}
      },
      "source": [
        "alpha = 1"
      ],
      "execution_count": 0,
      "outputs": []
    },
    {
      "cell_type": "code",
      "metadata": {
        "id": "Ys7jy59cYo03",
        "colab_type": "code",
        "outputId": "d6f1c082-711e-4188-91ed-76ce92f749a5",
        "colab": {
          "base_uri": "https://localhost:8080/",
          "height": 119
        }
      },
      "source": [
        "for c_ in classes:\n",
        "  c = np_X[np_Y == c_].sum(axis = 0)\n",
        "  likelihood[c_] = (alpha + c) / (sum_class[c_] + alpha * bow.shape[1]) #laplace, bow.shape[1] is the no. of unique words\n",
        "  \n",
        "likelihood\n"
      ],
      "execution_count": 0,
      "outputs": [
        {
          "output_type": "execute_result",
          "data": {
            "text/plain": [
              "array([[1.47699579e-04, 7.38497895e-05, 7.38497895e-05, ...,\n",
              "        7.38497895e-05, 7.38497895e-05, 7.38497895e-05],\n",
              "       [7.41949844e-05, 2.22584953e-04, 1.48389969e-04, ...,\n",
              "        7.41949844e-05, 2.96779938e-04, 7.41949844e-05],\n",
              "       [7.13877784e-05, 7.13877784e-05, 7.13877784e-05, ...,\n",
              "        1.42775557e-04, 7.13877784e-05, 1.42775557e-04]])"
            ]
          },
          "metadata": {
            "tags": []
          },
          "execution_count": 84
        }
      ]
    },
    {
      "cell_type": "code",
      "metadata": {
        "id": "i3ItnIusZFTx",
        "colab_type": "code",
        "outputId": "0a03ba4c-56a9-40fb-f789-c645f34cf9f9",
        "colab": {
          "base_uri": "https://localhost:8080/",
          "height": 34
        }
      },
      "source": [
        "bow.shape, likelihood.shape"
      ],
      "execution_count": 0,
      "outputs": [
        {
          "output_type": "execute_result",
          "data": {
            "text/plain": [
              "((1500, 7384), (3, 7384))"
            ]
          },
          "metadata": {
            "tags": []
          },
          "execution_count": 85
        }
      ]
    },
    {
      "cell_type": "code",
      "metadata": {
        "id": "Sb2fOqyvZNrW",
        "colab_type": "code",
        "outputId": "83a9fab5-a362-4218-dc06-f95e1fcdeb93",
        "colab": {
          "base_uri": "https://localhost:8080/",
          "height": 119
        }
      },
      "source": [
        "numerator = np.copy(likelihood)\n",
        "for c in classes:\n",
        "  numerator[c] = numerator[c] * prob_class[c] # p(x|c) * p(c)\n",
        "numerator"
      ],
      "execution_count": 0,
      "outputs": [
        {
          "output_type": "execute_result",
          "data": {
            "text/plain": [
              "array([[4.92331930e-05, 2.46165965e-05, 2.46165965e-05, ...,\n",
              "        2.46165965e-05, 2.46165965e-05, 2.46165965e-05],\n",
              "       [2.47316615e-05, 7.41949844e-05, 4.94633229e-05, ...,\n",
              "        2.47316615e-05, 9.89266459e-05, 2.47316615e-05],\n",
              "       [2.37959261e-05, 2.37959261e-05, 2.37959261e-05, ...,\n",
              "        4.75918523e-05, 2.37959261e-05, 4.75918523e-05]])"
            ]
          },
          "metadata": {
            "tags": []
          },
          "execution_count": 86
        }
      ]
    },
    {
      "cell_type": "code",
      "metadata": {
        "id": "o-RvYlzsaLv_",
        "colab_type": "code",
        "outputId": "63d1c8ef-bf63-4d0a-8a04-21fe4398f43d",
        "colab": {
          "base_uri": "https://localhost:8080/",
          "height": 34
        }
      },
      "source": [
        "forward = bow.dot(numerator.T)\n",
        "\n",
        "x_predict = forward/forward.sum(axis = 1, keepdims = True)\n",
        "x_predict.shape"
      ],
      "execution_count": 0,
      "outputs": [
        {
          "output_type": "execute_result",
          "data": {
            "text/plain": [
              "(1500, 3)"
            ]
          },
          "metadata": {
            "tags": []
          },
          "execution_count": 89
        }
      ]
    },
    {
      "cell_type": "code",
      "metadata": {
        "id": "ODjG_sydbvbV",
        "colab_type": "code",
        "outputId": "c0364061-0294-419e-d448-7631d2f83f7a",
        "colab": {
          "base_uri": "https://localhost:8080/",
          "height": 34
        }
      },
      "source": [
        "### Check how accuracy of the model\n",
        "\n",
        "(np.argmax(x_predict, axis = 1) == np_Y).mean()"
      ],
      "execution_count": 0,
      "outputs": [
        {
          "output_type": "execute_result",
          "data": {
            "text/plain": [
              "0.694"
            ]
          },
          "metadata": {
            "tags": []
          },
          "execution_count": 92
        }
      ]
    },
    {
      "cell_type": "code",
      "metadata": {
        "id": "j7RwNXt9ciEQ",
        "colab_type": "code",
        "outputId": "aafda198-4070-4f0e-9a2b-12c308372083",
        "colab": {
          "base_uri": "https://localhost:8080/",
          "height": 34
        }
      },
      "source": [
        "new_string = ['saya hate pembangkang']\n",
        "new_bow = np.zeros((len(new_string), len(unique_words)))\n",
        "\n",
        "for no, x in enumerate(new_string):\n",
        "  for w in x.split():\n",
        "    new_bow[no, unique_words.index(w)] += 1\n",
        "    \n",
        "new_bow.sum()\n",
        "\n",
        "new_feedforward = new_bow.dot(numerator.T)\n",
        "new_feedforward / new_feedforward.sum(axis=1, keepdims=True)"
      ],
      "execution_count": 0,
      "outputs": [
        {
          "output_type": "execute_result",
          "data": {
            "text/plain": [
              "array([[0.08063408, 0.60758237, 0.31178356]])"
            ]
          },
          "metadata": {
            "tags": []
          },
          "execution_count": 95
        }
      ]
    },
    {
      "cell_type": "code",
      "metadata": {
        "id": "D9Wyp4JufBo2",
        "colab_type": "code",
        "colab": {}
      },
      "source": [
        ""
      ],
      "execution_count": 0,
      "outputs": []
    }
  ]
}